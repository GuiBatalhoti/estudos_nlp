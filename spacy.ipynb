{
 "cells": [
  {
   "cell_type": "markdown",
   "metadata": {},
   "source": [
    "# About"
   ]
  },
  {
   "cell_type": "markdown",
   "metadata": {},
   "source": [
    "In here we have the option of reading the csv file and using it as the data. This is an easyer way to go strait into the data and start working on it.\n",
    "\n",
    "However, for my study porpuse I will not use the csv file, but the PDF files and build my own dataset. Since my goal is to learn how to work with PDFs and NLP."
   ]
  },
  {
   "cell_type": "markdown",
   "metadata": {},
   "source": [
    "## Goal"
   ]
  },
  {
   "cell_type": "markdown",
   "metadata": {},
   "source": [
    "The goal of this study is to explore the data read from the pdfs."
   ]
  },
  {
   "cell_type": "markdown",
   "metadata": {},
   "source": [
    "### Preprocessing"
   ]
  },
  {
   "cell_type": "code",
   "execution_count": 1,
   "metadata": {},
   "outputs": [],
   "source": [
    "import numpy as numpy\n",
    "import pandas as pd\n",
    "import matplotlib.pyplot as plt\n",
    "import seaborn as sns\n",
    "import plotly.express as px\n",
    "import pdfminer.high_level\n",
    "import spacy\n",
    "import os"
   ]
  },
  {
   "cell_type": "markdown",
   "metadata": {},
   "source": [
    "Acklowledging how to get de subdirectorys name."
   ]
  },
  {
   "cell_type": "code",
   "execution_count": 2,
   "metadata": {},
   "outputs": [
    {
     "data": {
      "text/plain": [
       "['./dados/data/ACCOUNTANT',\n",
       " './dados/data/ADVOCATE',\n",
       " './dados/data/AGRICULTURE',\n",
       " './dados/data/APPAREL',\n",
       " './dados/data/ARTS',\n",
       " './dados/data/AUTOMOBILE',\n",
       " './dados/data/AVIATION',\n",
       " './dados/data/BANKING',\n",
       " './dados/data/BPO',\n",
       " './dados/data/BUSINESS-DEVELOPMENT',\n",
       " './dados/data/CHEF',\n",
       " './dados/data/CONSTRUCTION',\n",
       " './dados/data/CONSULTANT',\n",
       " './dados/data/DESIGNER',\n",
       " './dados/data/DIGITAL-MEDIA',\n",
       " './dados/data/ENGINEERING',\n",
       " './dados/data/FINANCE',\n",
       " './dados/data/FITNESS',\n",
       " './dados/data/HEALTHCARE',\n",
       " './dados/data/HR',\n",
       " './dados/data/INFORMATION-TECHNOLOGY',\n",
       " './dados/data/PUBLIC-RELATIONS',\n",
       " './dados/data/SALES',\n",
       " './dados/data/TEACHER']"
      ]
     },
     "execution_count": 2,
     "metadata": {},
     "output_type": "execute_result"
    }
   ],
   "source": [
    "path = \"./dados/data/\"\n",
    "\n",
    "subdirectories = [os.path.join(path, o) for o in os.listdir(path) if os.path.isdir(os.path.join(path,o))]\n",
    "subdirectories"
   ]
  },
  {
   "cell_type": "markdown",
   "metadata": {},
   "source": [
    "Reading all the pdfs in the subdirectorys and making the csv file."
   ]
  },
  {
   "cell_type": "code",
   "execution_count": 10,
   "metadata": {},
   "outputs": [
    {
     "data": {
      "text/html": [
       "<div>\n",
       "<style scoped>\n",
       "    .dataframe tbody tr th:only-of-type {\n",
       "        vertical-align: middle;\n",
       "    }\n",
       "\n",
       "    .dataframe tbody tr th {\n",
       "        vertical-align: top;\n",
       "    }\n",
       "\n",
       "    .dataframe thead th {\n",
       "        text-align: right;\n",
       "    }\n",
       "</style>\n",
       "<table border=\"1\" class=\"dataframe\">\n",
       "  <thead>\n",
       "    <tr style=\"text-align: right;\">\n",
       "      <th></th>\n",
       "      <th>unique_id</th>\n",
       "      <th>text</th>\n",
       "      <th>type</th>\n",
       "    </tr>\n",
       "  </thead>\n",
       "  <tbody>\n",
       "    <tr>\n",
       "      <th>0</th>\n",
       "      <td>10554236.pdf</td>\n",
       "      <td>ACCOUNTANT\\nSummary\\n\\nFinancial Accountant sp...</td>\n",
       "      <td>ACCOUNTANT</td>\n",
       "    </tr>\n",
       "    <tr>\n",
       "      <th>1</th>\n",
       "      <td>10674770.pdf</td>\n",
       "      <td>STAFF ACCOUNTANT\\nSummary\\nHighly analytical a...</td>\n",
       "      <td>ACCOUNTANT</td>\n",
       "    </tr>\n",
       "    <tr>\n",
       "      <th>2</th>\n",
       "      <td>11163645.pdf</td>\n",
       "      <td>ACCOUNTANT\\nProfessional Summary\\nTo obtain a ...</td>\n",
       "      <td>ACCOUNTANT</td>\n",
       "    </tr>\n",
       "    <tr>\n",
       "      <th>3</th>\n",
       "      <td>11759079.pdf</td>\n",
       "      <td>SENIOR ACCOUNTANT\\nExperience\\nCompany Name Ju...</td>\n",
       "      <td>ACCOUNTANT</td>\n",
       "    </tr>\n",
       "    <tr>\n",
       "      <th>4</th>\n",
       "      <td>12065211.pdf</td>\n",
       "      <td>SENIOR ACCOUNTANT\\nProfessional Summary\\nSenio...</td>\n",
       "      <td>ACCOUNTANT</td>\n",
       "    </tr>\n",
       "  </tbody>\n",
       "</table>\n",
       "</div>"
      ],
      "text/plain": [
       "      unique_id                                               text        type\n",
       "0  10554236.pdf  ACCOUNTANT\\nSummary\\n\\nFinancial Accountant sp...  ACCOUNTANT\n",
       "1  10674770.pdf  STAFF ACCOUNTANT\\nSummary\\nHighly analytical a...  ACCOUNTANT\n",
       "2  11163645.pdf  ACCOUNTANT\\nProfessional Summary\\nTo obtain a ...  ACCOUNTANT\n",
       "3  11759079.pdf  SENIOR ACCOUNTANT\\nExperience\\nCompany Name Ju...  ACCOUNTANT\n",
       "4  12065211.pdf  SENIOR ACCOUNTANT\\nProfessional Summary\\nSenio...  ACCOUNTANT"
      ]
     },
     "execution_count": 10,
     "metadata": {},
     "output_type": "execute_result"
    }
   ],
   "source": [
    "def read_pdf(file_path):\n",
    "    with open(file_path, \"rb\") as file:\n",
    "        pdf = pdfminer.high_level.extract_text(file)\n",
    "        return pdf\n",
    "    \n",
    "def read_files(path):\n",
    "    data = {\n",
    "        \"unique_id\": [],\n",
    "        \"text\": [],\n",
    "        \"type\": []\n",
    "    }\n",
    "    subdirectories = [os.path.join(path, o) for o in os.listdir(path) if os.path.isdir(os.path.join(path,o))]\n",
    "    for subdir in subdirectories:\n",
    "        for file in os.listdir(subdir):\n",
    "            if file.endswith(\".pdf\"):\n",
    "                data[\"unique_id\"].append(file.split(\".\")[0])\n",
    "                data[\"text\"].append(read_pdf(os.path.join(subdir, file)))\n",
    "                data[\"type\"].append(subdir.split(\"/\")[-1])\n",
    "    \n",
    "    return data\n",
    "\n",
    "data = read_files(path)\n",
    "df = pd.DataFrame(data)\n",
    "df.head()"
   ]
  },
  {
   "cell_type": "markdown",
   "metadata": {},
   "source": [
    "Vizualizing the amout of each type of resume."
   ]
  },
  {
   "cell_type": "code",
   "execution_count": 12,
   "metadata": {},
   "outputs": [
    {
     "data": {
      "image/png": "[encoded data removed]",
      "text/plain": [
       "<Figure size 640x480 with 1 Axes>"
      ]
     },
     "metadata": {},
     "output_type": "display_data"
    }
   ],
   "source": [
    "pie = plt.pie(df[\"type\"].value_counts(), labels=df[\"type\"].value_counts().index, autopct='%1.1f%%', startangle=140)\n",
    "plt.show(pie)"
   ]
  },
  {
   "cell_type": "code",
   "execution_count": 13,
   "metadata": {},
   "outputs": [
    {
     "data": {
      "text/html": [
       "<div>\n",
       "<style scoped>\n",
       "    .dataframe tbody tr th:only-of-type {\n",
       "        vertical-align: middle;\n",
       "    }\n",
       "\n",
       "    .dataframe tbody tr th {\n",
       "        vertical-align: top;\n",
       "    }\n",
       "\n",
       "    .dataframe thead th {\n",
       "        text-align: right;\n",
       "    }\n",
       "</style>\n",
       "<table border=\"1\" class=\"dataframe\">\n",
       "  <thead>\n",
       "    <tr style=\"text-align: right;\">\n",
       "      <th></th>\n",
       "      <th>unique_id</th>\n",
       "      <th>text</th>\n",
       "      <th>type</th>\n",
       "      <th>tokens</th>\n",
       "    </tr>\n",
       "  </thead>\n",
       "  <tbody>\n",
       "    <tr>\n",
       "      <th>0</th>\n",
       "      <td>10554236.pdf</td>\n",
       "      <td>ACCOUNTANT\\nSummary\\n\\nFinancial Accountant sp...</td>\n",
       "      <td>ACCOUNTANT</td>\n",
       "      <td>(ACCOUNTANT, \\n, Summary, \\n\\n, Financial, Acc...</td>\n",
       "    </tr>\n",
       "    <tr>\n",
       "      <th>1</th>\n",
       "      <td>10674770.pdf</td>\n",
       "      <td>STAFF ACCOUNTANT\\nSummary\\nHighly analytical a...</td>\n",
       "      <td>ACCOUNTANT</td>\n",
       "      <td>(STAFF, ACCOUNTANT, \\n, Summary, \\n, Highly, a...</td>\n",
       "    </tr>\n",
       "    <tr>\n",
       "      <th>2</th>\n",
       "      <td>11163645.pdf</td>\n",
       "      <td>ACCOUNTANT\\nProfessional Summary\\nTo obtain a ...</td>\n",
       "      <td>ACCOUNTANT</td>\n",
       "      <td>(ACCOUNTANT, \\n, Professional, Summary, \\n, To...</td>\n",
       "    </tr>\n",
       "    <tr>\n",
       "      <th>3</th>\n",
       "      <td>11759079.pdf</td>\n",
       "      <td>SENIOR ACCOUNTANT\\nExperience\\nCompany Name Ju...</td>\n",
       "      <td>ACCOUNTANT</td>\n",
       "      <td>(SENIOR, ACCOUNTANT, \\n, Experience, \\n, Compa...</td>\n",
       "    </tr>\n",
       "    <tr>\n",
       "      <th>4</th>\n",
       "      <td>12065211.pdf</td>\n",
       "      <td>SENIOR ACCOUNTANT\\nProfessional Summary\\nSenio...</td>\n",
       "      <td>ACCOUNTANT</td>\n",
       "      <td>(SENIOR, ACCOUNTANT, \\n, Professional, Summary...</td>\n",
       "    </tr>\n",
       "  </tbody>\n",
       "</table>\n",
       "</div>"
      ],
      "text/plain": [
       "      unique_id                                               text  \\\n",
       "0  10554236.pdf  ACCOUNTANT\\nSummary\\n\\nFinancial Accountant sp...   \n",
       "1  10674770.pdf  STAFF ACCOUNTANT\\nSummary\\nHighly analytical a...   \n",
       "2  11163645.pdf  ACCOUNTANT\\nProfessional Summary\\nTo obtain a ...   \n",
       "3  11759079.pdf  SENIOR ACCOUNTANT\\nExperience\\nCompany Name Ju...   \n",
       "4  12065211.pdf  SENIOR ACCOUNTANT\\nProfessional Summary\\nSenio...   \n",
       "\n",
       "         type                                             tokens  \n",
       "0  ACCOUNTANT  (ACCOUNTANT, \\n, Summary, \\n\\n, Financial, Acc...  \n",
       "1  ACCOUNTANT  (STAFF, ACCOUNTANT, \\n, Summary, \\n, Highly, a...  \n",
       "2  ACCOUNTANT  (ACCOUNTANT, \\n, Professional, Summary, \\n, To...  \n",
       "3  ACCOUNTANT  (SENIOR, ACCOUNTANT, \\n, Experience, \\n, Compa...  \n",
       "4  ACCOUNTANT  (SENIOR, ACCOUNTANT, \\n, Professional, Summary...  "
      ]
     },
     "execution_count": 13,
     "metadata": {},
     "output_type": "execute_result"
    }
   ],
   "source": [
    "nlp = spacy.load(\"en_core_web_sm\")\n",
    "\n",
    "df = df.assign(tokens = df[\"text\"].apply(lambda x: nlp(x)))\n",
    "df.head()"
   ]
  }
 ],
 "metadata": {
  "kernelspec": {
   "display_name": "nlp_studying",
   "language": "python",
   "name": "python3"
  },
  "language_info": {
   "codemirror_mode": {
    "name": "ipython",
    "version": 3
   },
   "file_extension": ".py",
   "mimetype": "text/x-python",
   "name": "python",
   "nbconvert_exporter": "python",
   "pygments_lexer": "ipython3",
   "version": "3.11.4"
  }
 },
 "nbformat": 4,
 "nbformat_minor": 2
}
